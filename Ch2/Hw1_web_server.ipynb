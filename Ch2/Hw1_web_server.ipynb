{
 "cells": [
  {
   "cell_type": "code",
   "execution_count": 1,
   "metadata": {},
   "outputs": [
    {
     "name": "stdout",
     "output_type": "stream",
     "text": [
      "Ready to serve...\n",
      "Ready to serve...\n",
      "the thread is No.140201782650624\n",
      "Ready to serve...\n",
      "the thread is No.140201782650624\n",
      "Ready to serve...\n",
      "the thread is No.140201782650624\n",
      "Ready to serve...\n",
      "the thread is No.140201782650624\n",
      "Ready to serve...\n",
      "the thread is No.140201782650624\n",
      "Ready to serve...\n",
      "the thread is No.140201782650624\n",
      "Ready to serve...\n",
      "the thread is No.140201782650624\n",
      "Ready to serve...\n",
      "the thread is No.140201782650624\n",
      "Ready to serve...\n",
      "the thread is No.140201782650624\n",
      "Ready to serve...\n",
      "Ready to serve...\n",
      "the thread is No.140201782650624\n",
      "the thread is No.140201774257920\n",
      "Ready to serve...\n",
      "Ready to serve...\n",
      "the thread is No.140201774257920\n",
      "Ready to serve...\n",
      "Ready to serve...\n",
      "the thread is No.140201782650624\n",
      "the thread is No.140201774257920\n",
      "Ready to serve...\n",
      "the thread is No.140201774257920\n",
      "Ready to serve...\n",
      "the thread is No.140201774257920\n",
      "Ready to serve...\n",
      "Ready to serve...\n",
      "the thread is No.140201774257920\n",
      "the thread is No.140201782650624\n",
      "Ready to serve...\n",
      "Ready to serve...\n",
      "the thread is No.140201782650624\n",
      "Ready to serve...\n",
      "the thread is No.140201774257920\n",
      "Ready to serve...\n",
      "the thread is No.140201782650624\n",
      "the thread is No.140201774257920\n",
      "Ready to serve...\n"
     ]
    }
   ],
   "source": [
    "#import socket module\n",
    "from socket import *\n",
    "import threading\n",
    "#TCP socket\n",
    "serverSocket = socket(AF_INET, SOCK_STREAM) \n",
    "serverPort=6791\n",
    "#Prepare a sever socket\n",
    "#connect socket and the port \n",
    "serverSocket.bind((\"\",serverPort))\n",
    "#set the maxium num of tcp connect\n",
    "serverSocket.listen(1)\n",
    "def getfile(connectionSocket):\n",
    "\n",
    "        try:         \n",
    "            \n",
    "            message =   connectionSocket.recv(1024).decode()\n",
    "            filename = message.split()[1]\n",
    "            f = open(filename[1:])\n",
    "            outputdata = f.read()\n",
    "            #Send one HTTP header line into socket    \n",
    "            header=f' HTTP/1.1 200 OK\\nConnection: close\\nContent-Type: text/html\\nContent-length: {len(outputdata)}\\n\\n'\n",
    "            print(f\"the thread is No.{threading.get_ident()}\")\n",
    "            connectionSocket.send(header.encode())\n",
    "\n",
    "            #Send the content of the requested file to the client\n",
    "            for i in range(0, len(outputdata)):\n",
    "                connectionSocket.send(outputdata[i].encode())\n",
    "            connectionSocket.close()\n",
    "        except IOError:\n",
    "            #Send response message for file not found\n",
    "            header=\" HTTP/1.1 404 Found\"\n",
    "            connectionSocket.send(header.encode())\n",
    "            connectionSocket.close()\n",
    "            #Fill in start\n",
    "            #Fill in end\n",
    "\n",
    "            #Close client socket\n",
    "            #Fill in start\n",
    "            #Fill in end     \n",
    "while True:\n",
    "    #Establish the connection   \n",
    "    print('Ready to serve...') \n",
    "    connectionSocket, addr =   serverSocket.accept()\n",
    "    t = threading.Thread(target=getfile, args=(connectionSocket,))\n",
    "    t.start()\n",
    "\n",
    "serverSocket.close()"
   ]
  },
  {
   "cell_type": "code",
   "execution_count": 1,
   "metadata": {},
   "outputs": [
    {
     "ename": "NameError",
     "evalue": "name 'serverSocket' is not defined",
     "output_type": "error",
     "traceback": [
      "\u001b[0;31m---------------------------------------------------------------------------\u001b[0m",
      "\u001b[0;31mNameError\u001b[0m                                 Traceback (most recent call last)",
      "\u001b[0;32m<ipython-input-1-67ce642ffbbb>\u001b[0m in \u001b[0;36m<module>\u001b[0;34m()\u001b[0m\n\u001b[0;32m----> 1\u001b[0;31m \u001b[0mserverSocket\u001b[0m\u001b[0;34m.\u001b[0m\u001b[0mclose\u001b[0m\u001b[0;34m(\u001b[0m\u001b[0;34m)\u001b[0m\u001b[0;34m\u001b[0m\u001b[0m\n\u001b[0m",
      "\u001b[0;31mNameError\u001b[0m: name 'serverSocket' is not defined"
     ]
    }
   ],
   "source": [
    "serverSocket.close()"
   ]
  },
  {
   "cell_type": "code",
   "execution_count": null,
   "metadata": {},
   "outputs": [],
   "source": [
    "\n"
   ]
  }
 ],
 "metadata": {
  "interpreter": {
   "hash": "31f2aee4e71d21fbe5cf8b01ff0e069b9275f58929596ceb00d14d90e3e16cd6"
  },
  "kernelspec": {
   "display_name": "Python 3.6.12 64-bit",
   "language": "python",
   "name": "python3"
  },
  "language_info": {
   "codemirror_mode": {
    "name": "ipython",
    "version": 3
   },
   "file_extension": ".py",
   "mimetype": "text/x-python",
   "name": "python",
   "nbconvert_exporter": "python",
   "pygments_lexer": "ipython3",
   "version": "3.7.0"
  },
  "orig_nbformat": 4
 },
 "nbformat": 4,
 "nbformat_minor": 2
}
