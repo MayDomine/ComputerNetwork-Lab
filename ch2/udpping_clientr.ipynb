{
 "cells": [
  {
   "cell_type": "code",
   "execution_count": 3,
   "metadata": {},
   "outputs": [
    {
     "name": "stdout",
     "output_type": "stream",
     "text": [
      "lost0\n",
      "PING 1 1637831808.67719 RTT 0.0030019283294677734\n",
      "lost2\n",
      "PING 3 1637831809.69565 RTT 0.0015850067138671875\n",
      "PING 4 1637831809.697235 RTT 0.0030078887939453125\n",
      "lost5\n",
      "PING 6 1637831810.7141705 RTT 0.008002281188964844\n",
      "PING 7 1637831810.7221727 RTT 0.0019991397857666016\n",
      "PING 8 1637831810.7241719 RTT 0.0018105506896972656\n",
      "PING 9 1637831810.7259824 RTT 0.0031745433807373047\n"
     ]
    }
   ],
   "source": [
    "from socket import *\n",
    "import time\n",
    "clientSocket = socket(AF_INET, SOCK_DGRAM)\n",
    "server_addr=(\"115.24.15.45\",12000)\n",
    "for i in range(10):\n",
    "    time1=time.time()\n",
    "\n",
    "    content=\"ping \"+str(i) +\" \" +str(time1)\n",
    "    clientSocket.settimeout(1)\n",
    "    clientSocket.sendto(content.encode(\"utf-8\"),server_addr)\n",
    "    try:\n",
    "        msg,server_addr=clientSocket.recvfrom(1024)\n",
    "        timediff=time.time() - time1\n",
    "        print(msg.decode()+\" RTT \"+ str(timediff))\n",
    "    except:\n",
    "        print(\"lost\"+str(i))"
   ]
  },
  {
   "cell_type": "code",
   "execution_count": null,
   "metadata": {},
   "outputs": [],
   "source": []
  }
 ],
 "metadata": {
  "interpreter": {
   "hash": "a057f92e7a4d2b1e7cfade17206b9405f7bda8d98921963af057184e3bc83477"
  },
  "kernelspec": {
   "display_name": "Python 3.8.5 64-bit ('base': conda)",
   "language": "python",
   "name": "python3"
  },
  "language_info": {
   "codemirror_mode": {
    "name": "ipython",
    "version": 3
   },
   "file_extension": ".py",
   "mimetype": "text/x-python",
   "name": "python",
   "nbconvert_exporter": "python",
   "pygments_lexer": "ipython3",
   "version": "3.8.5"
  },
  "orig_nbformat": 4
 },
 "nbformat": 4,
 "nbformat_minor": 2
}
